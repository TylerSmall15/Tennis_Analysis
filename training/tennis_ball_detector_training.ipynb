{
 "cells": [
  {
   "cell_type": "code",
   "execution_count": null,
   "metadata": {},
   "outputs": [],
   "source": []
  },
  {
   "cell_type": "markdown",
   "metadata": {},
   "source": [
    "#Get Dataset"
   ]
  },
  {
   "cell_type": "code",
   "execution_count": 3,
   "metadata": {},
   "outputs": [
    {
     "name": "stdout",
     "output_type": "stream",
     "text": [
      "Defaulting to user installation because normal site-packages is not writeable\n",
      "Collecting roboflow\n",
      "  Downloading roboflow-1.1.26-py3-none-any.whl (71 kB)\n",
      "\u001b[K     |████████████████████████████████| 71 kB 1.8 MB/s eta 0:00:01\n",
      "\u001b[?25hRequirement already satisfied: kiwisolver>=1.3.1 in /Users/tylersmall/Library/Python/3.9/lib/python/site-packages (from roboflow) (1.4.5)\n",
      "Requirement already satisfied: urllib3>=1.26.6 in /Users/tylersmall/Library/Python/3.9/lib/python/site-packages (from roboflow) (2.2.1)\n",
      "Requirement already satisfied: python-dateutil in /Users/tylersmall/Library/Python/3.9/lib/python/site-packages (from roboflow) (2.9.0.post0)\n",
      "Collecting requests-toolbelt\n",
      "  Downloading requests_toolbelt-1.0.0-py2.py3-none-any.whl (54 kB)\n",
      "\u001b[K     |████████████████████████████████| 54 kB 5.7 MB/s eta 0:00:011\n",
      "\u001b[?25hRequirement already satisfied: six in /Library/Developer/CommandLineTools/Library/Frameworks/Python3.framework/Versions/3.9/lib/python3.9/site-packages (from roboflow) (1.15.0)\n",
      "Collecting idna==2.10\n",
      "  Downloading idna-2.10-py2.py3-none-any.whl (58 kB)\n",
      "\u001b[K     |████████████████████████████████| 58 kB 5.6 MB/s eta 0:00:01\n",
      "\u001b[?25hCollecting certifi==2023.7.22\n",
      "  Downloading certifi-2023.7.22-py3-none-any.whl (158 kB)\n",
      "\u001b[K     |████████████████████████████████| 158 kB 7.9 MB/s eta 0:00:01\n",
      "\u001b[?25hCollecting cycler==0.10.0\n",
      "  Downloading cycler-0.10.0-py2.py3-none-any.whl (6.5 kB)\n",
      "Requirement already satisfied: numpy>=1.18.5 in /Users/tylersmall/Library/Python/3.9/lib/python/site-packages (from roboflow) (1.26.4)\n",
      "Collecting opencv-python-headless==4.8.0.74\n",
      "  Downloading opencv_python_headless-4.8.0.74-cp37-abi3-macosx_11_0_arm64.whl (33.1 MB)\n",
      "\u001b[K     |████████████████████████████████| 33.1 MB 16.0 MB/s eta 0:00:01\n",
      "\u001b[?25hRequirement already satisfied: requests in /Users/tylersmall/Library/Python/3.9/lib/python/site-packages (from roboflow) (2.31.0)\n",
      "Requirement already satisfied: tqdm>=4.41.0 in /Users/tylersmall/Library/Python/3.9/lib/python/site-packages (from roboflow) (4.66.2)\n",
      "Requirement already satisfied: matplotlib in /Users/tylersmall/Library/Python/3.9/lib/python/site-packages (from roboflow) (3.8.4)\n",
      "Collecting chardet==4.0.0\n",
      "  Downloading chardet-4.0.0-py2.py3-none-any.whl (178 kB)\n",
      "\u001b[K     |████████████████████████████████| 178 kB 14.3 MB/s eta 0:00:01\n",
      "\u001b[?25hRequirement already satisfied: Pillow>=7.1.2 in /Users/tylersmall/Library/Python/3.9/lib/python/site-packages (from roboflow) (10.3.0)\n",
      "Collecting python-magic\n",
      "  Downloading python_magic-0.4.27-py2.py3-none-any.whl (13 kB)\n",
      "Requirement already satisfied: PyYAML>=5.3.1 in /Users/tylersmall/Library/Python/3.9/lib/python/site-packages (from roboflow) (6.0.1)\n",
      "Collecting python-dotenv\n",
      "  Downloading python_dotenv-1.0.1-py3-none-any.whl (19 kB)\n",
      "Requirement already satisfied: fonttools>=4.22.0 in /Users/tylersmall/Library/Python/3.9/lib/python/site-packages (from matplotlib->roboflow) (4.51.0)\n",
      "Requirement already satisfied: packaging>=20.0 in /Users/tylersmall/Library/Python/3.9/lib/python/site-packages (from matplotlib->roboflow) (24.0)\n",
      "Requirement already satisfied: pyparsing>=2.3.1 in /Users/tylersmall/Library/Python/3.9/lib/python/site-packages (from matplotlib->roboflow) (3.1.2)\n",
      "Requirement already satisfied: contourpy>=1.0.1 in /Users/tylersmall/Library/Python/3.9/lib/python/site-packages (from matplotlib->roboflow) (1.2.1)\n",
      "Requirement already satisfied: importlib-resources>=3.2.0 in /Users/tylersmall/Library/Python/3.9/lib/python/site-packages (from matplotlib->roboflow) (6.4.0)\n",
      "Requirement already satisfied: zipp>=3.1.0 in /Users/tylersmall/Library/Python/3.9/lib/python/site-packages (from importlib-resources>=3.2.0->matplotlib->roboflow) (3.18.1)\n",
      "Requirement already satisfied: charset-normalizer<4,>=2 in /Users/tylersmall/Library/Python/3.9/lib/python/site-packages (from requests->roboflow) (3.3.2)\n",
      "Installing collected packages: idna, certifi, cycler, requests-toolbelt, python-magic, python-dotenv, opencv-python-headless, chardet, roboflow\n",
      "  Attempting uninstall: idna\n",
      "    Found existing installation: idna 3.6\n",
      "    Uninstalling idna-3.6:\n",
      "      Successfully uninstalled idna-3.6\n",
      "  Attempting uninstall: certifi\n",
      "    Found existing installation: certifi 2024.2.2\n",
      "    Uninstalling certifi-2024.2.2:\n",
      "      Successfully uninstalled certifi-2024.2.2\n",
      "  Attempting uninstall: cycler\n",
      "    Found existing installation: cycler 0.12.1\n",
      "    Uninstalling cycler-0.12.1:\n",
      "      Successfully uninstalled cycler-0.12.1\n",
      "Successfully installed certifi-2023.7.22 chardet-4.0.0 cycler-0.10.0 idna-2.10 opencv-python-headless-4.8.0.74 python-dotenv-1.0.1 python-magic-0.4.27 requests-toolbelt-1.0.0 roboflow-1.1.26\n",
      "\u001b[33mWARNING: You are using pip version 21.2.4; however, version 24.0 is available.\n",
      "You should consider upgrading via the '/Library/Developer/CommandLineTools/usr/bin/python3 -m pip install --upgrade pip' command.\u001b[0m\n"
     ]
    }
   ],
   "source": [
    "!pip3 install roboflow"
   ]
  },
  {
   "cell_type": "code",
   "execution_count": 4,
   "metadata": {},
   "outputs": [
    {
     "name": "stdout",
     "output_type": "stream",
     "text": [
      "Defaulting to user installation because normal site-packages is not writeable\n",
      "Requirement already satisfied: ultralytics in /Users/tylersmall/Library/Python/3.9/lib/python/site-packages (8.1.45)\n",
      "Requirement already satisfied: psutil in /Users/tylersmall/Library/Python/3.9/lib/python/site-packages (from ultralytics) (5.9.8)\n",
      "Requirement already satisfied: tqdm>=4.64.0 in /Users/tylersmall/Library/Python/3.9/lib/python/site-packages (from ultralytics) (4.66.2)\n",
      "Requirement already satisfied: seaborn>=0.11.0 in /Users/tylersmall/Library/Python/3.9/lib/python/site-packages (from ultralytics) (0.13.2)\n",
      "Requirement already satisfied: pandas>=1.1.4 in /Users/tylersmall/Library/Python/3.9/lib/python/site-packages (from ultralytics) (2.2.1)\n",
      "Requirement already satisfied: matplotlib>=3.3.0 in /Users/tylersmall/Library/Python/3.9/lib/python/site-packages (from ultralytics) (3.8.4)\n",
      "Requirement already satisfied: torchvision>=0.9.0 in /Users/tylersmall/Library/Python/3.9/lib/python/site-packages (from ultralytics) (0.17.2)\n",
      "Requirement already satisfied: torch>=1.8.0 in /Users/tylersmall/Library/Python/3.9/lib/python/site-packages (from ultralytics) (2.2.2)\n",
      "Requirement already satisfied: scipy>=1.4.1 in /Users/tylersmall/Library/Python/3.9/lib/python/site-packages (from ultralytics) (1.13.0)\n",
      "Requirement already satisfied: opencv-python>=4.6.0 in /Users/tylersmall/Library/Python/3.9/lib/python/site-packages (from ultralytics) (4.9.0.80)\n",
      "Requirement already satisfied: py-cpuinfo in /Users/tylersmall/Library/Python/3.9/lib/python/site-packages (from ultralytics) (9.0.0)\n",
      "Requirement already satisfied: pyyaml>=5.3.1 in /Users/tylersmall/Library/Python/3.9/lib/python/site-packages (from ultralytics) (6.0.1)\n",
      "Requirement already satisfied: pillow>=7.1.2 in /Users/tylersmall/Library/Python/3.9/lib/python/site-packages (from ultralytics) (10.3.0)\n",
      "Requirement already satisfied: requests>=2.23.0 in /Users/tylersmall/Library/Python/3.9/lib/python/site-packages (from ultralytics) (2.31.0)\n",
      "Requirement already satisfied: thop>=0.1.1 in /Users/tylersmall/Library/Python/3.9/lib/python/site-packages (from ultralytics) (0.1.1.post2209072238)\n",
      "Requirement already satisfied: importlib-resources>=3.2.0 in /Users/tylersmall/Library/Python/3.9/lib/python/site-packages (from matplotlib>=3.3.0->ultralytics) (6.4.0)\n",
      "Requirement already satisfied: contourpy>=1.0.1 in /Users/tylersmall/Library/Python/3.9/lib/python/site-packages (from matplotlib>=3.3.0->ultralytics) (1.2.1)\n",
      "Requirement already satisfied: pyparsing>=2.3.1 in /Users/tylersmall/Library/Python/3.9/lib/python/site-packages (from matplotlib>=3.3.0->ultralytics) (3.1.2)\n",
      "Requirement already satisfied: fonttools>=4.22.0 in /Users/tylersmall/Library/Python/3.9/lib/python/site-packages (from matplotlib>=3.3.0->ultralytics) (4.51.0)\n",
      "Requirement already satisfied: packaging>=20.0 in /Users/tylersmall/Library/Python/3.9/lib/python/site-packages (from matplotlib>=3.3.0->ultralytics) (24.0)\n",
      "Requirement already satisfied: python-dateutil>=2.7 in /Users/tylersmall/Library/Python/3.9/lib/python/site-packages (from matplotlib>=3.3.0->ultralytics) (2.9.0.post0)\n",
      "Requirement already satisfied: numpy>=1.21 in /Users/tylersmall/Library/Python/3.9/lib/python/site-packages (from matplotlib>=3.3.0->ultralytics) (1.26.4)\n",
      "Requirement already satisfied: kiwisolver>=1.3.1 in /Users/tylersmall/Library/Python/3.9/lib/python/site-packages (from matplotlib>=3.3.0->ultralytics) (1.4.5)\n",
      "Requirement already satisfied: cycler>=0.10 in /Users/tylersmall/Library/Python/3.9/lib/python/site-packages (from matplotlib>=3.3.0->ultralytics) (0.10.0)\n",
      "Requirement already satisfied: six in /Library/Developer/CommandLineTools/Library/Frameworks/Python3.framework/Versions/3.9/lib/python3.9/site-packages (from cycler>=0.10->matplotlib>=3.3.0->ultralytics) (1.15.0)\n",
      "Requirement already satisfied: zipp>=3.1.0 in /Users/tylersmall/Library/Python/3.9/lib/python/site-packages (from importlib-resources>=3.2.0->matplotlib>=3.3.0->ultralytics) (3.18.1)\n",
      "Requirement already satisfied: tzdata>=2022.7 in /Users/tylersmall/Library/Python/3.9/lib/python/site-packages (from pandas>=1.1.4->ultralytics) (2024.1)\n",
      "Requirement already satisfied: pytz>=2020.1 in /Users/tylersmall/Library/Python/3.9/lib/python/site-packages (from pandas>=1.1.4->ultralytics) (2024.1)\n",
      "Requirement already satisfied: certifi>=2017.4.17 in /Users/tylersmall/Library/Python/3.9/lib/python/site-packages (from requests>=2.23.0->ultralytics) (2023.7.22)\n",
      "Requirement already satisfied: idna<4,>=2.5 in /Users/tylersmall/Library/Python/3.9/lib/python/site-packages (from requests>=2.23.0->ultralytics) (2.10)\n",
      "Requirement already satisfied: urllib3<3,>=1.21.1 in /Users/tylersmall/Library/Python/3.9/lib/python/site-packages (from requests>=2.23.0->ultralytics) (2.2.1)\n",
      "Requirement already satisfied: charset-normalizer<4,>=2 in /Users/tylersmall/Library/Python/3.9/lib/python/site-packages (from requests>=2.23.0->ultralytics) (3.3.2)\n",
      "Requirement already satisfied: sympy in /Users/tylersmall/Library/Python/3.9/lib/python/site-packages (from torch>=1.8.0->ultralytics) (1.12)\n",
      "Requirement already satisfied: typing-extensions>=4.8.0 in /Users/tylersmall/Library/Python/3.9/lib/python/site-packages (from torch>=1.8.0->ultralytics) (4.11.0)\n",
      "Requirement already satisfied: fsspec in /Users/tylersmall/Library/Python/3.9/lib/python/site-packages (from torch>=1.8.0->ultralytics) (2024.3.1)\n",
      "Requirement already satisfied: filelock in /Users/tylersmall/Library/Python/3.9/lib/python/site-packages (from torch>=1.8.0->ultralytics) (3.13.3)\n",
      "Requirement already satisfied: networkx in /Users/tylersmall/Library/Python/3.9/lib/python/site-packages (from torch>=1.8.0->ultralytics) (3.2.1)\n",
      "Requirement already satisfied: jinja2 in /Users/tylersmall/Library/Python/3.9/lib/python/site-packages (from torch>=1.8.0->ultralytics) (3.1.3)\n",
      "Requirement already satisfied: MarkupSafe>=2.0 in /Users/tylersmall/Library/Python/3.9/lib/python/site-packages (from jinja2->torch>=1.8.0->ultralytics) (2.1.5)\n",
      "Requirement already satisfied: mpmath>=0.19 in /Users/tylersmall/Library/Python/3.9/lib/python/site-packages (from sympy->torch>=1.8.0->ultralytics) (1.3.0)\n",
      "\u001b[33mWARNING: You are using pip version 21.2.4; however, version 24.0 is available.\n",
      "You should consider upgrading via the '/Library/Developer/CommandLineTools/usr/bin/python3 -m pip install --upgrade pip' command.\u001b[0m\n"
     ]
    }
   ],
   "source": [
    "!pip3 install ultralytics"
   ]
  },
  {
   "cell_type": "code",
   "execution_count": null,
   "metadata": {},
   "outputs": [],
   "source": []
  },
  {
   "cell_type": "code",
   "execution_count": 5,
   "metadata": {},
   "outputs": [
    {
     "name": "stdout",
     "output_type": "stream",
     "text": [
      "Defaulting to user installation because normal site-packages is not writeable\n",
      "Requirement already satisfied: roboflow in /Users/tylersmall/Library/Python/3.9/lib/python/site-packages (1.1.26)\n",
      "Requirement already satisfied: kiwisolver>=1.3.1 in /Users/tylersmall/Library/Python/3.9/lib/python/site-packages (from roboflow) (1.4.5)\n",
      "Requirement already satisfied: Pillow>=7.1.2 in /Users/tylersmall/Library/Python/3.9/lib/python/site-packages (from roboflow) (10.3.0)\n",
      "Requirement already satisfied: python-dateutil in /Users/tylersmall/Library/Python/3.9/lib/python/site-packages (from roboflow) (2.9.0.post0)\n",
      "Requirement already satisfied: requests in /Users/tylersmall/Library/Python/3.9/lib/python/site-packages (from roboflow) (2.31.0)\n",
      "Requirement already satisfied: tqdm>=4.41.0 in /Users/tylersmall/Library/Python/3.9/lib/python/site-packages (from roboflow) (4.66.2)\n",
      "Requirement already satisfied: chardet==4.0.0 in /Users/tylersmall/Library/Python/3.9/lib/python/site-packages (from roboflow) (4.0.0)\n",
      "Requirement already satisfied: idna==2.10 in /Users/tylersmall/Library/Python/3.9/lib/python/site-packages (from roboflow) (2.10)\n",
      "Requirement already satisfied: matplotlib in /Users/tylersmall/Library/Python/3.9/lib/python/site-packages (from roboflow) (3.8.4)\n",
      "Requirement already satisfied: numpy>=1.18.5 in /Users/tylersmall/Library/Python/3.9/lib/python/site-packages (from roboflow) (1.26.4)\n",
      "Requirement already satisfied: python-dotenv in /Users/tylersmall/Library/Python/3.9/lib/python/site-packages (from roboflow) (1.0.1)\n",
      "Requirement already satisfied: PyYAML>=5.3.1 in /Users/tylersmall/Library/Python/3.9/lib/python/site-packages (from roboflow) (6.0.1)\n",
      "Requirement already satisfied: cycler==0.10.0 in /Users/tylersmall/Library/Python/3.9/lib/python/site-packages (from roboflow) (0.10.0)\n",
      "Requirement already satisfied: six in /Library/Developer/CommandLineTools/Library/Frameworks/Python3.framework/Versions/3.9/lib/python3.9/site-packages (from roboflow) (1.15.0)\n",
      "Requirement already satisfied: python-magic in /Users/tylersmall/Library/Python/3.9/lib/python/site-packages (from roboflow) (0.4.27)\n",
      "Requirement already satisfied: requests-toolbelt in /Users/tylersmall/Library/Python/3.9/lib/python/site-packages (from roboflow) (1.0.0)\n",
      "Requirement already satisfied: certifi==2023.7.22 in /Users/tylersmall/Library/Python/3.9/lib/python/site-packages (from roboflow) (2023.7.22)\n",
      "Requirement already satisfied: opencv-python-headless==4.8.0.74 in /Users/tylersmall/Library/Python/3.9/lib/python/site-packages (from roboflow) (4.8.0.74)\n",
      "Requirement already satisfied: urllib3>=1.26.6 in /Users/tylersmall/Library/Python/3.9/lib/python/site-packages (from roboflow) (2.2.1)\n",
      "Requirement already satisfied: fonttools>=4.22.0 in /Users/tylersmall/Library/Python/3.9/lib/python/site-packages (from matplotlib->roboflow) (4.51.0)\n",
      "Requirement already satisfied: importlib-resources>=3.2.0 in /Users/tylersmall/Library/Python/3.9/lib/python/site-packages (from matplotlib->roboflow) (6.4.0)\n",
      "Requirement already satisfied: packaging>=20.0 in /Users/tylersmall/Library/Python/3.9/lib/python/site-packages (from matplotlib->roboflow) (24.0)\n",
      "Requirement already satisfied: contourpy>=1.0.1 in /Users/tylersmall/Library/Python/3.9/lib/python/site-packages (from matplotlib->roboflow) (1.2.1)\n",
      "Requirement already satisfied: pyparsing>=2.3.1 in /Users/tylersmall/Library/Python/3.9/lib/python/site-packages (from matplotlib->roboflow) (3.1.2)\n",
      "Requirement already satisfied: zipp>=3.1.0 in /Users/tylersmall/Library/Python/3.9/lib/python/site-packages (from importlib-resources>=3.2.0->matplotlib->roboflow) (3.18.1)\n",
      "Requirement already satisfied: charset-normalizer<4,>=2 in /Users/tylersmall/Library/Python/3.9/lib/python/site-packages (from requests->roboflow) (3.3.2)\n",
      "\u001b[33mWARNING: You are using pip version 21.2.4; however, version 24.0 is available.\n",
      "You should consider upgrading via the '/Library/Developer/CommandLineTools/usr/bin/python3 -m pip install --upgrade pip' command.\u001b[0m\n"
     ]
    },
    {
     "name": "stderr",
     "output_type": "stream",
     "text": [
      "/Users/tylersmall/Library/Python/3.9/lib/python/site-packages/urllib3/__init__.py:35: NotOpenSSLWarning: urllib3 v2 only supports OpenSSL 1.1.1+, currently the 'ssl' module is compiled with 'LibreSSL 2.8.3'. See: https://github.com/urllib3/urllib3/issues/3020\n",
      "  warnings.warn(\n"
     ]
    },
    {
     "name": "stdout",
     "output_type": "stream",
     "text": [
      "loading Roboflow workspace...\n",
      "loading Roboflow project...\n",
      "Dependency ultralytics==8.0.196 is required but found version=8.1.45, to fix: `pip install ultralytics==8.0.196`\n"
     ]
    },
    {
     "name": "stderr",
     "output_type": "stream",
     "text": [
      "Downloading Dataset Version Zip in tennis-ball-detection-6 to yolov8:: 100%|██████████| 52040/52040 [00:03<00:00, 13261.69it/s]"
     ]
    },
    {
     "name": "stdout",
     "output_type": "stream",
     "text": [
      "\n"
     ]
    },
    {
     "name": "stderr",
     "output_type": "stream",
     "text": [
      "\n",
      "Extracting Dataset Version Zip to tennis-ball-detection-6 in yolov8:: 100%|██████████| 1168/1168 [00:00<00:00, 7752.30it/s]\n"
     ]
    }
   ],
   "source": [
    "!pip3 install roboflow\n",
    "from dotenv import load_dotenv\n",
    "import os\n",
    "\n",
    "def configure():\n",
    "    load_dotenv()\n",
    "\n",
    "from roboflow import Roboflow\n",
    "rf = Roboflow(api_key=os.getenv('api_key'))\n",
    "project = rf.workspace(\"viren-dhanwani\").project(\"tennis-ball-detection\")\n",
    "version = project.version(6)\n",
    "dataset = version.download(\"yolov8\")\n"
   ]
  },
  {
   "cell_type": "code",
   "execution_count": null,
   "metadata": {},
   "outputs": [],
   "source": []
  },
  {
   "cell_type": "code",
   "execution_count": 6,
   "metadata": {},
   "outputs": [],
   "source": [
    "import shutil "
   ]
  },
  {
   "cell_type": "code",
   "execution_count": 7,
   "metadata": {},
   "outputs": [
    {
     "data": {
      "text/plain": [
       "'tennis-ball-detection-6/tennis-ball-detection-6/train'"
      ]
     },
     "execution_count": 7,
     "metadata": {},
     "output_type": "execute_result"
    }
   ],
   "source": [
    "shutil.move(\"tennis-ball-detection-6/train/\",\n",
    "\"tennis-ball-detection-6/tennis-ball-detection-6/train\",\n",
    ")"
   ]
  },
  {
   "cell_type": "code",
   "execution_count": 9,
   "metadata": {},
   "outputs": [
    {
     "data": {
      "text/plain": [
       "'tennis-ball-detection-6/tennis-ball-detection-6/valid'"
      ]
     },
     "execution_count": 9,
     "metadata": {},
     "output_type": "execute_result"
    }
   ],
   "source": [
    "shutil.move(\"tennis-ball-detection-6/test/\",\n",
    "\"tennis-ball-detection-6/tennis-ball-detection-6/test\",\n",
    ")\n",
    "\n",
    "shutil.move(\"tennis-ball-detection-6/valid/\",\n",
    "\"tennis-ball-detection-6/tennis-ball-detection-6/valid\",\n",
    ")"
   ]
  },
  {
   "cell_type": "code",
   "execution_count": null,
   "metadata": {},
   "outputs": [],
   "source": []
  },
  {
   "cell_type": "code",
   "execution_count": 11,
   "metadata": {},
   "outputs": [
    {
     "name": "stdout",
     "output_type": "stream",
     "text": [
      "/Users/tylersmall/Library/Python/3.9/lib/python/site-packages/urllib3/__init__.py:35: NotOpenSSLWarning: urllib3 v2 only supports OpenSSL 1.1.1+, currently the 'ssl' module is compiled with 'LibreSSL 2.8.3'. See: https://github.com/urllib3/urllib3/issues/3020\n",
      "  warnings.warn(\n",
      "Downloading https://github.com/ultralytics/assets/releases/download/v8.1.0/yolov8x.pt to 'yolov8x.pt'...\n",
      "100%|████████████████████████████████████████| 131M/131M [00:09<00:00, 14.2MB/s]\n",
      "Ultralytics YOLOv8.1.45 🚀 Python-3.9.6 torch-2.2.2 CPU (Apple M2)\n",
      "\u001b[34m\u001b[1mengine/trainer: \u001b[0mtask=detect, mode=train, model=yolov8x.pt, data=/Users/tylersmall/Desktop/Tennis_Analysis/training/tennis-ball-detection-6/data.yaml, epochs=100, time=None, patience=100, batch=16, imgsz=640, save=True, save_period=-1, cache=False, device=None, workers=8, project=None, name=train, exist_ok=False, pretrained=True, optimizer=auto, verbose=True, seed=0, deterministic=True, single_cls=False, rect=False, cos_lr=False, close_mosaic=10, resume=False, amp=True, fraction=1.0, profile=False, freeze=None, multi_scale=False, overlap_mask=True, mask_ratio=4, dropout=0.0, val=True, split=val, save_json=False, save_hybrid=False, conf=None, iou=0.7, max_det=300, half=False, dnn=False, plots=True, source=None, vid_stride=1, stream_buffer=False, visualize=False, augment=False, agnostic_nms=False, classes=None, retina_masks=False, embed=None, show=False, save_frames=False, save_txt=False, save_conf=False, save_crop=False, show_labels=True, show_conf=True, show_boxes=True, line_width=None, format=torchscript, keras=False, optimize=False, int8=False, dynamic=False, simplify=False, opset=None, workspace=4, nms=False, lr0=0.01, lrf=0.01, momentum=0.937, weight_decay=0.0005, warmup_epochs=3.0, warmup_momentum=0.8, warmup_bias_lr=0.1, box=7.5, cls=0.5, dfl=1.5, pose=12.0, kobj=1.0, label_smoothing=0.0, nbs=64, hsv_h=0.015, hsv_s=0.7, hsv_v=0.4, degrees=0.0, translate=0.1, scale=0.5, shear=0.0, perspective=0.0, flipud=0.0, fliplr=0.5, bgr=0.0, mosaic=1.0, mixup=0.0, copy_paste=0.0, auto_augment=randaugment, erasing=0.4, crop_fraction=1.0, cfg=None, tracker=botsort.yaml, save_dir=runs/detect/train\n",
      "Overriding model.yaml nc=80 with nc=1\n",
      "\n",
      "                   from  n    params  module                                       arguments                     \n",
      "  0                  -1  1      2320  ultralytics.nn.modules.conv.Conv             [3, 80, 3, 2]                 \n",
      "  1                  -1  1    115520  ultralytics.nn.modules.conv.Conv             [80, 160, 3, 2]               \n",
      "  2                  -1  3    436800  ultralytics.nn.modules.block.C2f             [160, 160, 3, True]           \n",
      "  3                  -1  1    461440  ultralytics.nn.modules.conv.Conv             [160, 320, 3, 2]              \n",
      "  4                  -1  6   3281920  ultralytics.nn.modules.block.C2f             [320, 320, 6, True]           \n",
      "  5                  -1  1   1844480  ultralytics.nn.modules.conv.Conv             [320, 640, 3, 2]              \n",
      "  6                  -1  6  13117440  ultralytics.nn.modules.block.C2f             [640, 640, 6, True]           \n",
      "  7                  -1  1   3687680  ultralytics.nn.modules.conv.Conv             [640, 640, 3, 2]              \n",
      "  8                  -1  3   6969600  ultralytics.nn.modules.block.C2f             [640, 640, 3, True]           \n",
      "  9                  -1  1   1025920  ultralytics.nn.modules.block.SPPF            [640, 640, 5]                 \n",
      " 10                  -1  1         0  torch.nn.modules.upsampling.Upsample         [None, 2, 'nearest']          \n",
      " 11             [-1, 6]  1         0  ultralytics.nn.modules.conv.Concat           [1]                           \n",
      " 12                  -1  3   7379200  ultralytics.nn.modules.block.C2f             [1280, 640, 3]                \n",
      " 13                  -1  1         0  torch.nn.modules.upsampling.Upsample         [None, 2, 'nearest']          \n",
      " 14             [-1, 4]  1         0  ultralytics.nn.modules.conv.Concat           [1]                           \n",
      " 15                  -1  3   1948800  ultralytics.nn.modules.block.C2f             [960, 320, 3]                 \n",
      " 16                  -1  1    922240  ultralytics.nn.modules.conv.Conv             [320, 320, 3, 2]              \n",
      " 17            [-1, 12]  1         0  ultralytics.nn.modules.conv.Concat           [1]                           \n",
      " 18                  -1  3   7174400  ultralytics.nn.modules.block.C2f             [960, 640, 3]                 \n",
      " 19                  -1  1   3687680  ultralytics.nn.modules.conv.Conv             [640, 640, 3, 2]              \n",
      " 20             [-1, 9]  1         0  ultralytics.nn.modules.conv.Concat           [1]                           \n",
      " 21                  -1  3   7379200  ultralytics.nn.modules.block.C2f             [1280, 640, 3]                \n",
      " 22        [15, 18, 21]  1   8718931  ultralytics.nn.modules.head.Detect           [1, [320, 640, 640]]          \n",
      "Model summary: 365 layers, 68153571 parameters, 68153555 gradients, 258.1 GFLOPs\n",
      "\n",
      "Transferred 589/595 items from pretrained weights\n",
      "Freezing layer 'model.22.dfl.conv.weight'\n",
      "\u001b[34m\u001b[1mtrain: \u001b[0mScanning /Users/tylersmall/Desktop/Tennis_Analysis/training/tennis-ball-d\u001b[0m\n",
      "\u001b[34m\u001b[1mtrain: \u001b[0mNew cache created: /Users/tylersmall/Desktop/Tennis_Analysis/training/tennis-ball-detection-6/tennis-ball-detection-6/train/labels.cache\n",
      "\u001b[34m\u001b[1mval: \u001b[0mScanning /Users/tylersmall/Desktop/Tennis_Analysis/training/tennis-ball-det\u001b[0m\n",
      "\u001b[34m\u001b[1mval: \u001b[0mNew cache created: /Users/tylersmall/Desktop/Tennis_Analysis/training/tennis-ball-detection-6/tennis-ball-detection-6/valid/labels.cache\n",
      "Plotting labels to runs/detect/train/labels.jpg... \n",
      "\u001b[34m\u001b[1moptimizer:\u001b[0m 'optimizer=auto' found, ignoring 'lr0=0.01' and 'momentum=0.937' and determining best 'optimizer', 'lr0' and 'momentum' automatically... \n",
      "\u001b[34m\u001b[1moptimizer:\u001b[0m AdamW(lr=0.002, momentum=0.9) with parameter groups 97 weight(decay=0.0), 104 weight(decay=0.0005), 103 bias(decay=0.0)\n",
      "Image sizes 640 train, 640 val\n",
      "Using 0 dataloader workers\n",
      "Logging results to \u001b[1mruns/detect/train\u001b[0m\n",
      "Starting training for 100 epochs...\n",
      "\n",
      "      Epoch    GPU_mem   box_loss   cls_loss   dfl_loss  Instances       Size\n",
      "  0%|          | 0/27 [00:00<?, ?it/s]"
     ]
    }
   ],
   "source": [
    "!yolo task=detect mode=train model=yolov8x.pt data={dataset.location}/data.yaml epochs=100 imgsz=640"
   ]
  },
  {
   "cell_type": "code",
   "execution_count": null,
   "metadata": {},
   "outputs": [],
   "source": []
  }
 ],
 "metadata": {
  "kernelspec": {
   "display_name": "Python 3",
   "language": "python",
   "name": "python3"
  },
  "language_info": {
   "codemirror_mode": {
    "name": "ipython",
    "version": 3
   },
   "file_extension": ".py",
   "mimetype": "text/x-python",
   "name": "python",
   "nbconvert_exporter": "python",
   "pygments_lexer": "ipython3",
   "version": "3.9.6"
  }
 },
 "nbformat": 4,
 "nbformat_minor": 2
}
